{
  "cells": [
    {
      "cell_type": "markdown",
      "metadata": {
        "id": "view-in-github",
        "colab_type": "text"
      },
      "source": [
        "<a href=\"https://colab.research.google.com/github/NgBlaze/HNGx/blob/main/GeoSpatial_task_stage_1.ipynb\" target=\"_parent\"><img src=\"https://colab.research.google.com/assets/colab-badge.svg\" alt=\"Open In Colab\"/></a>"
      ]
    },
    {
      "cell_type": "code",
      "execution_count": 2,
      "metadata": {
        "id": "3D3t8CP7sJFK",
        "colab": {
          "base_uri": "https://localhost:8080/"
        },
        "outputId": "f1c3e47a-ae86-44ea-a7d4-9496e683f159"
      },
      "outputs": [
        {
          "output_type": "stream",
          "name": "stdout",
          "text": [
            "                                Address  Latitude  Longitude  APC   LP  PDP  \\\n",
            "0  ST. CHARLE'S SCHOOL, AGUATA, ANAMBRA  6.008584   7.100949    0    0    0   \n",
            "1       AMANKWU SQUARE, AGUATA, ANAMBRA  6.008584   7.100949    3  142    0   \n",
            "2     COOPERATIVE HALL, AGUATA, ANAMBRA  6.008584   7.100949    0    0    0   \n",
            "3      OCHIEOBU SQUARE, AGUATA, ANAMBRA  6.008584   7.100949    0  124    4   \n",
            "4    OYE MOTOR PARK II, AGUATA, ANAMBRA  5.965620   7.119106    4   57    0   \n",
            "\n",
            "   NNPP  \n",
            "0     0  \n",
            "1     1  \n",
            "2     0  \n",
            "3     1  \n",
            "4     0  \n",
            "Index(['Address', 'Latitude', 'Longitude', 'APC', 'LP', 'PDP', 'NNPP'], dtype='object')\n",
            "<class 'pandas.core.frame.DataFrame'>\n",
            "RangeIndex: 3679 entries, 0 to 3678\n",
            "Data columns (total 7 columns):\n",
            " #   Column     Non-Null Count  Dtype  \n",
            "---  ------     --------------  -----  \n",
            " 0   Address    3679 non-null   object \n",
            " 1   Latitude   3679 non-null   float64\n",
            " 2   Longitude  3679 non-null   float64\n",
            " 3   APC        3679 non-null   int64  \n",
            " 4   LP         3679 non-null   int64  \n",
            " 5   PDP        3679 non-null   int64  \n",
            " 6   NNPP       3679 non-null   int64  \n",
            "dtypes: float64(2), int64(4), object(1)\n",
            "memory usage: 201.3+ KB\n",
            "None\n"
          ]
        }
      ],
      "source": [
        "# Import necessary libraries\n",
        "import pandas as pd\n",
        "import matplotlib.pyplot as plt\n",
        "import geopandas as gpd\n",
        "from shapely.geometry import Point\n",
        "\n",
        "# Load the dataset\n",
        "df = pd.read_csv('Anambra Election Data.csv')  # Replace with your actual file path\n",
        "\n",
        "# Display first few rows and column names to understand the dataset\n",
        "print(df.head())\n",
        "print(df.columns)\n",
        "\n",
        "# Verify data types and check for any missing values\n",
        "print(df.info())\n",
        "\n",
        "# Convert Latitude and Longitude to Point objects for geospatial analysis\n",
        "geometry = [Point(xy) for xy in zip(df['Longitude'], df['Latitude'])]\n",
        "\n",
        "import pandas as pd\n",
        "import folium\n",
        "\n",
        "# Load the dataset\n",
        "df = pd.read_csv('Anambra Election Data.csv')  # Replace with your actual file path\n",
        "\n",
        "# Initialize the map centered around a specific location\n",
        "m = folium.Map(location=[df['Latitude'].mean(), df['Longitude'].mean()], zoom_start=12)\n",
        "\n",
        "# Define colors for each party\n",
        "party_colors = {\n",
        "    'APC': 'blue',\n",
        "    'LP': 'green',\n",
        "    'PDP': 'red',\n",
        "    'NNPP': 'orange'\n",
        "}\n",
        "\n",
        "# Add markers for each polling unit, color-coded by party votes\n",
        "for index, row in df.iterrows():\n",
        "    # Determine marker color based on party with the most votes\n",
        "    max_party = max(row['APC'], row['LP'], row['PDP'], row['NNPP'])\n",
        "    if row['APC'] == max_party:\n",
        "        color = party_colors['APC']\n",
        "    elif row['LP'] == max_party:\n",
        "        color = party_colors['LP']\n",
        "    elif row['PDP'] == max_party:\n",
        "        color = party_colors['PDP']\n",
        "    else:\n",
        "        color = party_colors['NNPP']\n",
        "\n",
        "    # Define popup content\n",
        "    popup = f\"<b>Polling Unit:</b> {row['Address']}<br>\" \\\n",
        "            f\"<b>APC Votes:</b> {row['APC']}<br>\" \\\n",
        "            f\"<b>LP Votes:</b> {row['LP']}<br>\" \\\n",
        "            f\"<b>PDP Votes:</b> {row['PDP']}<br>\" \\\n",
        "            f\"<b>NNPP Votes:</b> {row['NNPP']}\"\n",
        "\n",
        "    # Add marker to the map\n",
        "    folium.Marker(location=[row['Latitude'], row['Longitude']], popup=popup, icon=folium.Icon(color=color)).add_to(m)\n",
        "\n",
        "# Add legends for party colors\n",
        "for party, color in party_colors.items():\n",
        "    folium.Marker(\n",
        "        location=[0, 0],\n",
        "        popup=party,\n",
        "        icon=folium.Icon(color=color),\n",
        "        tooltip=party\n",
        "    ).add_to(m)\n",
        "\n",
        "# Add layer control to toggle party legends\n",
        "folium.LayerControl().add_to(m)\n",
        "\n",
        "# Save the map as an HTML file (optional)\n",
        "m.save('polling_units_map_with_legends.html')\n",
        "\n",
        "\n"
      ]
    },
    {
      "cell_type": "code",
      "execution_count": 3,
      "metadata": {
        "id": "i0gRjyOMtNnZ",
        "colab": {
          "base_uri": "https://localhost:8080/",
          "height": 564
        },
        "outputId": "9eddc2fa-ebfe-480c-bd73-4b3514469809"
      },
      "outputs": [
        {
          "output_type": "display_data",
          "data": {
            "text/plain": [
              "<Figure size 1000x600 with 1 Axes>"
            ],
            "image/png": "[encoded data removed]"
          },
          "metadata": {}
        }
      ],
      "source": [
        "import pandas as pd\n",
        "import matplotlib.pyplot as plt\n",
        "\n",
        "\n",
        "\n",
        "# Calculate total votes for each party\n",
        "total_votes_apc = df['APC'].sum()\n",
        "total_votes_lp = df['LP'].sum()\n",
        "total_votes_pdp = df['PDP'].sum()\n",
        "total_votes_nnpp = df['NNPP'].sum()\n",
        "\n",
        "# Create a bar plot for party-wise distribution\n",
        "parties = ['APC', 'LP', 'PDP', 'NNPP']\n",
        "total_votes = [total_votes_apc, total_votes_lp, total_votes_pdp, total_votes_nnpp]\n",
        "\n",
        "plt.figure(figsize=(10, 6))\n",
        "plt.bar(parties, total_votes, color=['blue', 'green', 'red', 'orange'])\n",
        "plt.title('Total Votes Distribution by Party')\n",
        "plt.xlabel('Parties')\n",
        "plt.ylabel('Total Votes')\n",
        "\n",
        "plt.show()\n"
      ]
    },
    {
      "cell_type": "code",
      "execution_count": 4,
      "metadata": {
        "id": "gSb8gVQhtQIZ",
        "colab": {
          "base_uri": "https://localhost:8080/"
        },
        "outputId": "8365d12e-3fd9-4053-89d1-2da1c95b40c2"
      },
      "outputs": [
        {
          "output_type": "stream",
          "name": "stderr",
          "text": [
            "Identifying neighbours: 100%|██████████| 3679/3679 [00:13<00:00, 282.22it/s]\n"
          ]
        },
        {
          "output_type": "stream",
          "name": "stdout",
          "text": [
            "                                                Address  \\\n",
            "0                  ST. CHARLE'S SCHOOL, AGUATA, ANAMBRA   \n",
            "1                       AMANKWU SQUARE, AGUATA, ANAMBRA   \n",
            "2                     COOPERATIVE HALL, AGUATA, ANAMBRA   \n",
            "3                      OCHIEOBU SQUARE, AGUATA, ANAMBRA   \n",
            "4                    OYE MOTOR PARK II, AGUATA, ANAMBRA   \n",
            "...                                                 ...   \n",
            "3674  NODU VILLAGE HALL VII (OPEN SPACE OPPOSITE NOD...   \n",
            "3675  NIGERIA UNION OF JOURNALISTS PREMISES (OPEN SP...   \n",
            "3676        OKOCHI VILLAGE HALL II, AWKA SOUTH, ANAMBRA   \n",
            "3677  UMUNNACHI EBENATO UDENE VILL. HALL, NNEWI SOUT...   \n",
            "3678    OGENEUNADIKE VILLAGE HALL, NNEWI SOUTH, ANAMBRA   \n",
            "\n",
            "                                             Neighbours  \n",
            "0     [COMMUNITY PRY. SCHOOL I, AGUATA, ANAMBRA, COM...  \n",
            "1     [COMMUNITY PRY. SCHOOL I, AGUATA, ANAMBRA, COM...  \n",
            "2     [COMMUNITY PRY. SCHOOL I, AGUATA, ANAMBRA, COM...  \n",
            "3     [COMMUNITY PRY. SCHOOL I, AGUATA, ANAMBRA, COM...  \n",
            "4                                                    []  \n",
            "...                                                 ...  \n",
            "3674  [TIPPER GARAGE, AWKA NORTH, ANAMBRA, OBEAGU EN...  \n",
            "3675  [UMUEZE V SQUARE III, AWKA NORTH, ANAMBRA, UMU...  \n",
            "3676  [NWAKPADULU ESTATE SQUARE (OPEN SPACE OPPOSITE...  \n",
            "3677  [BOY'S HIGH SCHOOL I, NNEWI SOUTH, ANAMBRA, BO...  \n",
            "3678                                                 []  \n",
            "\n",
            "[3679 rows x 2 columns]\n"
          ]
        }
      ],
      "source": [
        "import pandas as pd\n",
        "import geopandas as gpd\n",
        "from shapely.geometry import Point\n",
        "from scipy.spatial import distance_matrix\n",
        "import seaborn as sns\n",
        "import matplotlib.pyplot as plt\n",
        "from tqdm import tqdm\n",
        "\n",
        "\n",
        "\n",
        "# Create a GeoDataFrame\n",
        "gdf = gpd.GeoDataFrame(df, geometry=gpd.points_from_xy(df.Longitude, df.Latitude))\n",
        "\n",
        "# Ensure the GeoDataFrame uses a metric CRS (e.g., EPSG:3857)\n",
        "gdf = gdf.set_crs(\"EPSG:4326\")  # WGS84\n",
        "gdf = gdf.to_crs(\"EPSG:3857\")   # Metric CRS\n",
        "\n",
        "# Calculate the distance matrix with tqdm for progress visualization\n",
        "coords = gdf.geometry.apply(lambda x: (x.x, x.y))\n",
        "dist_matrix = distance_matrix(coords.tolist(), coords.tolist())\n",
        "\n",
        "\n",
        "# After visualizing, you can choose an appropriate distance threshold\n",
        "distance_threshold = 1000  # Example threshold in meters\n",
        "\n",
        "# Identify neighbours within the distance threshold\n",
        "neighbours = []\n",
        "for i, distances in tqdm(enumerate(dist_matrix), total=len(dist_matrix), desc=\"Identifying neighbours\"):\n",
        "    neighbour_indices = [j for j, d in enumerate(distances) if 0 < d <= distance_threshold]\n",
        "    neighbours.append((gdf.iloc[i]['Address'], [gdf.iloc[j]['Address'] for j in neighbour_indices]))\n",
        "\n",
        "# Create a DataFrame of neighbouring polling units\n",
        "neighbours_df = pd.DataFrame(neighbours, columns=['Address', 'Neighbours'])\n",
        "\n",
        "# Display the result\n",
        "print(neighbours_df)\n"
      ]
    },
    {
      "cell_type": "code",
      "execution_count": 5,
      "metadata": {
        "id": "oewvTQKxNg2-",
        "colab": {
          "base_uri": "https://localhost:8080/"
        },
        "outputId": "61571266-307f-4224-bd95-f06afe0ca5cf"
      },
      "outputs": [
        {
          "output_type": "stream",
          "name": "stderr",
          "text": [
            "Identifying neighbours: 100%|██████████| 3679/3679 [00:08<00:00, 436.97it/s]"
          ]
        },
        {
          "output_type": "stream",
          "name": "stdout",
          "text": [
            "                                                Address  \\\n",
            "0                  ST. CHARLE'S SCHOOL, AGUATA, ANAMBRA   \n",
            "1                       AMANKWU SQUARE, AGUATA, ANAMBRA   \n",
            "2                     COOPERATIVE HALL, AGUATA, ANAMBRA   \n",
            "3                      OCHIEOBU SQUARE, AGUATA, ANAMBRA   \n",
            "4                    OYE MOTOR PARK II, AGUATA, ANAMBRA   \n",
            "...                                                 ...   \n",
            "3674  NODU VILLAGE HALL VII (OPEN SPACE OPPOSITE NOD...   \n",
            "3675  NIGERIA UNION OF JOURNALISTS PREMISES (OPEN SP...   \n",
            "3676        OKOCHI VILLAGE HALL II, AWKA SOUTH, ANAMBRA   \n",
            "3677  UMUNNACHI EBENATO UDENE VILL. HALL, NNEWI SOUT...   \n",
            "3678    OGENEUNADIKE VILLAGE HALL, NNEWI SOUTH, ANAMBRA   \n",
            "\n",
            "                                             Neighbours  \n",
            "0     [COMMUNITY PRY. SCHOOL I, AGUATA, ANAMBRA, COM...  \n",
            "1     [COMMUNITY PRY. SCHOOL I, AGUATA, ANAMBRA, COM...  \n",
            "2     [COMMUNITY PRY. SCHOOL I, AGUATA, ANAMBRA, COM...  \n",
            "3     [COMMUNITY PRY. SCHOOL I, AGUATA, ANAMBRA, COM...  \n",
            "4                                                    []  \n",
            "...                                                 ...  \n",
            "3674  [TIPPER GARAGE, AWKA NORTH, ANAMBRA, OBEAGU EN...  \n",
            "3675  [UMUEZE V SQUARE III, AWKA NORTH, ANAMBRA, UMU...  \n",
            "3676  [NWAKPADULU ESTATE SQUARE (OPEN SPACE OPPOSITE...  \n",
            "3677  [BOY'S HIGH SCHOOL I, NNEWI SOUTH, ANAMBRA, BO...  \n",
            "3678                                                 []  \n",
            "\n",
            "[3679 rows x 2 columns]\n"
          ]
        },
        {
          "output_type": "stream",
          "name": "stderr",
          "text": [
            "\n"
          ]
        }
      ],
      "source": [
        "import pandas as pd\n",
        "import geopandas as gpd\n",
        "from shapely.geometry import Point\n",
        "from scipy.spatial import distance_matrix\n",
        "import seaborn as sns\n",
        "import matplotlib.pyplot as plt\n",
        "from tqdm import tqdm\n",
        "\n",
        "\n",
        "\n",
        "# Create a GeoDataFrame\n",
        "gdf = gpd.GeoDataFrame(df, geometry=gpd.points_from_xy(df.Longitude, df.Latitude))\n",
        "\n",
        "# Ensure the GeoDataFrame uses a metric CRS (e.g., EPSG:3857)\n",
        "gdf = gdf.set_crs(\"EPSG:4326\")  # WGS84\n",
        "gdf = gdf.to_crs(\"EPSG:3857\")   # Metric CRS\n",
        "\n",
        "# Calculate the distance matrix with tqdm for progress visualization\n",
        "coords = gdf.geometry.apply(lambda x: (x.x, x.y))\n",
        "dist_matrix = distance_matrix(coords.tolist(), coords.tolist())\n",
        "\n",
        "\n",
        "\n",
        "\n",
        "distance_threshold = 1000  # Example threshold in meters\n",
        "\n",
        "# Identify neighbours within the distance threshold\n",
        "neighbours = []\n",
        "for i, distances in tqdm(enumerate(dist_matrix), total=len(dist_matrix), desc=\"Identifying neighbours\"):\n",
        "    neighbour_indices = [j for j, d in enumerate(distances) if 0 < d <= distance_threshold]\n",
        "    neighbours.append((gdf.iloc[i]['Address'], [gdf.iloc[j]['Address'] for j in neighbour_indices]))\n",
        "\n",
        "# Create a DataFrame of neighbouring polling units\n",
        "neighbours_df = pd.DataFrame(neighbours, columns=['Address', 'Neighbours'])\n",
        "\n",
        "# Display the result\n",
        "print(neighbours_df)\n"
      ]
    },
    {
      "cell_type": "code",
      "execution_count": 10,
      "metadata": {
        "colab": {
          "base_uri": "https://localhost:8080/"
        },
        "outputId": "9435af0c-9cfc-4dac-9ffd-cd87cb6a8d0b",
        "id": "CL-dGnXO_5qV"
      },
      "outputs": [
        {
          "output_type": "stream",
          "name": "stderr",
          "text": [
            "/usr/local/lib/python3.10/dist-packages/numpy/core/fromnumeric.py:3504: RuntimeWarning: Mean of empty slice.\n",
            "  return _methods._mean(a, axis=axis, dtype=dtype,\n",
            "/usr/local/lib/python3.10/dist-packages/numpy/core/_methods.py:206: RuntimeWarning: Degrees of freedom <= 0 for slice\n",
            "  ret = _var(a, axis=axis, dtype=dtype, out=out, ddof=ddof,\n",
            "/usr/local/lib/python3.10/dist-packages/numpy/core/fromnumeric.py:3504: RuntimeWarning: Mean of empty slice.\n",
            "  return _methods._mean(a, axis=axis, dtype=dtype,\n",
            "/usr/local/lib/python3.10/dist-packages/numpy/core/_methods.py:206: RuntimeWarning: Degrees of freedom <= 0 for slice\n",
            "  ret = _var(a, axis=axis, dtype=dtype, out=out, ddof=ddof,\n",
            "/usr/local/lib/python3.10/dist-packages/numpy/core/fromnumeric.py:3504: RuntimeWarning: Mean of empty slice.\n",
            "  return _methods._mean(a, axis=axis, dtype=dtype,\n",
            "/usr/local/lib/python3.10/dist-packages/numpy/core/_methods.py:206: RuntimeWarning: Degrees of freedom <= 0 for slice\n",
            "  ret = _var(a, axis=axis, dtype=dtype, out=out, ddof=ddof,\n",
            "/usr/local/lib/python3.10/dist-packages/numpy/core/fromnumeric.py:3504: RuntimeWarning: Mean of empty slice.\n",
            "  return _methods._mean(a, axis=axis, dtype=dtype,\n",
            "/usr/local/lib/python3.10/dist-packages/numpy/core/_methods.py:206: RuntimeWarning: Degrees of freedom <= 0 for slice\n",
            "  ret = _var(a, axis=axis, dtype=dtype, out=out, ddof=ddof,\n"
          ]
        }
      ],
      "source": [
        "\n",
        "#Calculate z-score for each party in each polling unit\n",
        "\n",
        "import numpy as np\n",
        "\n",
        "# Example: Calculate z-score for each party in each polling unit\n",
        "parties = ['APC', 'LP', 'PDP', 'NNPP']  # Example parties, adjust as per your dataset\n",
        "for party in parties:\n",
        "    # Calculate mean and standard deviation of votes for the party in neighbouring units\n",
        "    neighbours_df[f'{party}_mean'] = neighbours_df['Neighbours'].apply(\n",
        "        lambda neighbours: np.mean([df.loc[df['Address'] == neighbour][party].values[0] for neighbour in neighbours if neighbour != gdf.iloc[i]['Address']]))\n",
        "    neighbours_df[f'{party}_std'] = neighbours_df['Neighbours'].apply(\n",
        "        lambda neighbours: np.std([df.loc[df['Address'] == neighbour][party].values[0] for neighbour in neighbours if neighbour != gdf.iloc[i]['Address']]))\n",
        "\n",
        "    # Calculate z-score for the party in each polling unit\n",
        "    gdf[f'{party}_zscore'] = (df[party] - neighbours_df[f'{party}_mean']) / neighbours_df[f'{party}_std']"
      ]
    },
    {
      "cell_type": "code",
      "execution_count": 11,
      "metadata": {
        "id": "tmHaR6LTNi8X"
      },
      "outputs": [],
      "source": [
        "# Example: Identify outliers based on z-score threshold (adjust threshold as needed)\n",
        "outlier_threshold = 2.0\n",
        "for party in parties:\n",
        "    gdf[f'{party}_outlier'] = gdf[f'{party}_zscore'].apply(lambda z: True if abs(z) > outlier_threshold else False)\n"
      ]
    },
    {
      "cell_type": "code",
      "execution_count": 12,
      "metadata": {
        "id": "XUWqgUKZNk4F",
        "colab": {
          "base_uri": "https://localhost:8080/"
        },
        "outputId": "f8278459-1076-43fd-db3e-73244c4455aa"
      },
      "outputs": [
        {
          "output_type": "stream",
          "name": "stdout",
          "text": [
            "                                                Address  APC_zscore  \\\n",
            "0                  ST. CHARLE'S SCHOOL, AGUATA, ANAMBRA   -0.426006   \n",
            "1                       AMANKWU SQUARE, AGUATA, ANAMBRA    1.582310   \n",
            "2                     COOPERATIVE HALL, AGUATA, ANAMBRA   -0.426006   \n",
            "3                      OCHIEOBU SQUARE, AGUATA, ANAMBRA   -0.426006   \n",
            "4                    OYE MOTOR PARK II, AGUATA, ANAMBRA         NaN   \n",
            "...                                                 ...         ...   \n",
            "3674  NODU VILLAGE HALL VII (OPEN SPACE OPPOSITE NOD...   -0.707107   \n",
            "3675  NIGERIA UNION OF JOURNALISTS PREMISES (OPEN SP...   -0.036364   \n",
            "3676        OKOCHI VILLAGE HALL II, AWKA SOUTH, ANAMBRA        -inf   \n",
            "3677  UMUNNACHI EBENATO UDENE VILL. HALL, NNEWI SOUT...         inf   \n",
            "3678    OGENEUNADIKE VILLAGE HALL, NNEWI SOUTH, ANAMBRA         NaN   \n",
            "\n",
            "      LP_zscore  PDP_zscore  NNPP_zscore  APC_outlier  LP_outlier  \\\n",
            "0     -2.026735   -0.693375    -0.471405        False        True   \n",
            "1      1.886442   -0.693375     2.121320        False       False   \n",
            "2     -2.026735   -0.693375    -0.471405        False        True   \n",
            "3      1.390406    2.357476     2.121320        False       False   \n",
            "4           NaN         NaN          NaN        False       False   \n",
            "...         ...         ...          ...          ...         ...   \n",
            "3674   0.114762   -0.707107          NaN        False       False   \n",
            "3675  -0.323703   -0.769750    -0.399951        False       False   \n",
            "3676       -inf        -inf          NaN         True        True   \n",
            "3677  -3.000000   -1.000000          inf         True        True   \n",
            "3678        NaN         NaN          NaN        False       False   \n",
            "\n",
            "      PDP_outlier  NNPP_outlier  \n",
            "0           False         False  \n",
            "1           False          True  \n",
            "2           False         False  \n",
            "3            True          True  \n",
            "4           False         False  \n",
            "...           ...           ...  \n",
            "3674        False         False  \n",
            "3675        False         False  \n",
            "3676         True         False  \n",
            "3677        False          True  \n",
            "3678        False         False  \n",
            "\n",
            "[3679 rows x 9 columns]\n"
          ]
        }
      ],
      "source": [
        "# Display the DataFrame with outlier scores\n",
        "print(gdf[['Address', 'APC_zscore', 'LP_zscore', 'PDP_zscore', 'NNPP_zscore', 'APC_outlier', 'LP_outlier', 'PDP_outlier', 'NNPP_outlier']])"
      ]
    },
    {
      "cell_type": "code",
      "execution_count": null,
      "metadata": {
        "id": "84PAqDbsNmbg"
      },
      "outputs": [],
      "source": [
        "# Create a base map centered around a location (e.g., Nigeria)\n",
        "m = folium.Map(location=[9.0820, 8.6753], zoom_start=6)\n",
        "\n",
        "# Add choropleth layer for each party\n",
        "for party, color in zip(['APC', 'LP', 'PDP', 'NNPP'], ['YlOrRd', 'YlGn', 'PuRd', 'YlOrBr']):\n",
        "    folium.Choropleth(\n",
        "        geo_data=gdf,\n",
        "        data=gdf,\n",
        "        columns=['Address', party],\n",
        "        key_on='feature.properties.Address',\n",
        "        fill_color=color,\n",
        "        fill_opacity=0.7,\n",
        "        line_opacity=0.2,\n",
        "        legend_name=f'Votes for {party}',\n",
        "        highlight=True,\n",
        "        name=f'{party} Party'  # Optional: Specify layer name\n",
        "    ).add_to(m)\n",
        "\n",
        "# Display the map\n",
        "m.save('voting_map.html')  # Save the map to an HTML file"
      ]
    },
    {
      "cell_type": "code",
      "source": [
        "gdf[['Address', 'APC_zscore', 'LP_zscore', 'PDP_zscore', 'NNPP_zscore', 'APC_outlier', 'LP_outlier', 'PDP_outlier', 'NNPP_outlier']].to_csv('output_file.csv', index=False)\n"
      ],
      "metadata": {
        "id": "F0vRzN6-WUj3"
      },
      "execution_count": 21,
      "outputs": []
    },
    {
      "cell_type": "code",
      "source": [],
      "metadata": {
        "id": "pSv-aQjEWot2"
      },
      "execution_count": null,
      "outputs": []
    },
    {
      "cell_type": "code",
      "source": [
        "import pandas as pd\n",
        "import geopandas as gpd\n",
        "import matplotlib.pyplot as plt\n",
        "import seaborn as sns\n",
        "from scipy.spatial import distance_matrix\n",
        "import numpy as np\n",
        "from tqdm import tqdm\n",
        "\n",
        "# Load your DataFrame with z-scores and outlier flags\n",
        "df = pd.read_csv('output_file.csv')\n",
        "\n",
        "# Overview statistics\n",
        "overview_stats = df[['APC_zscore', 'LP_zscore', 'PDP_zscore', 'NNPP_zscore']].describe()\n",
        "print(\"Overview Statistics for Z-scores:\")\n",
        "print(overview_stats)\n",
        "\n",
        "# Distribution of z-scores for each party\n",
        "plt.figure(figsize=(12, 8))\n",
        "sns.histplot(data=df, x='APC_zscore', kde=True, bins=20, color='blue', label='APC')\n",
        "sns.histplot(data=df, x='LP_zscore', kde=True, bins=20, color='green', label='LP')\n",
        "sns.histplot(data=df, x='PDP_zscore', kde=True, bins=20, color='red', label='PDP')\n",
        "sns.histplot(data=df, x='NNPP_zscore', kde=True, bins=20, color='orange', label='NNPP')\n",
        "plt.title('Distribution of Z-scores for Different Parties')\n",
        "plt.xlabel('Z-score')\n",
        "plt.ylabel('Count')\n",
        "plt.legend()\n",
        "plt.grid(True)\n",
        "plt.show()\n",
        "\n",
        "# Explanation for Overview Statistics and Distribution\n",
        "print(\"\\n### Explanation: Overview Statistics and Distribution ###\\n\")\n",
        "print(\"The overview statistics provide a summary of the distribution of z-scores across all polling units for each party.\")\n",
        "print(\"These statistics include measures such as mean, standard deviation, minimum, maximum, and quartiles.\")\n",
        "print(\"The distribution plots visualize how the z-scores are distributed for each party.\")\n",
        "print(\"They show the spread and concentration of voting pattern deviations from neighbouring units, which helps in understanding the variability and potential outliers.\")\n",
        "\n",
        "# Percentage of outliers for each party\n",
        "outlier_percentage = df[['APC_outlier', 'LP_outlier', 'PDP_outlier', 'NNPP_outlier']].mean() * 100\n",
        "print(\"\\nPercentage of Outliers for Each Party:\")\n",
        "print(outlier_percentage)\n",
        "\n",
        "# Explanation for Percentage of Outliers\n",
        "print(\"\\n### Explanation: Percentage of Outliers ###\\n\")\n",
        "print(\"The percentage of outliers for each party indicates the proportion of polling units where significant deviations in voting patterns are observed compared to neighbouring units.\")\n",
        "print(\"Higher percentages suggest more widespread anomalies in voting behaviors, which may warrant closer scrutiny and investigation.\")\n",
        "\n",
        "\n",
        "\n",
        "# Explanation for Visualizing Outliers on a Map\n",
        "print(\"\\n### Explanation: Visualizing Outliers on a Map ###\\n\")\n",
        "print(\"The map visualizes the spatial distribution of outliers for the APC party across polling units.\")\n",
        "print(\"Each point represents a polling unit, colored according to whether it is flagged as an outlier.\")\n",
        "print(\"This helps in identifying geographical clusters or patterns of voting irregularities that may require further investigation.\")\n",
        "\n",
        "# Sorting and Reporting Top Outliers\n",
        "for party in ['APC', 'LP', 'PDP', 'NNPP']:\n",
        "    sorted_df = df.sort_values(by=f'{party}_zscore', ascending=False)\n",
        "    print(f\"\\nTop outliers for {party} party:\")\n",
        "    print(sorted_df[['Address', f'{party}_zscore', f'{party}_outlier']].head())\n",
        "    print(\"\\n\")\n",
        "\n",
        "# Explanation for Sorting and Reporting Top Outliers\n",
        "print(\"\\n### Explanation: Sorting and Reporting Top Outliers ###\\n\")\n",
        "print(\"Sorting the polling units by z-score allows us to identify the most significant outliers.\")\n",
        "print(\"These are the polling units where voting patterns deviate the most from their neighbours, indicating potential irregularities.\")\n",
        "print(\"Reporting these top outliers helps prioritize further investigation or corrective actions in these locations.\")\n"
      ],
      "metadata": {
        "id": "KoaLM-vXXmLH",
        "colab": {
          "base_uri": "https://localhost:8080/",
          "height": 1000
        },
        "outputId": "ce19ac71-38a3-4173-d291-58e8d5e1bbc8"
      },
      "execution_count": 23,
      "outputs": [
        {
          "output_type": "stream",
          "name": "stdout",
          "text": [
            "Overview Statistics for Z-scores:\n",
            "        APC_zscore    LP_zscore   PDP_zscore  NNPP_zscore\n",
            "count  1754.000000  2052.000000  1874.000000  1718.000000\n",
            "mean           NaN          NaN          NaN          NaN\n",
            "std            NaN          NaN          NaN          NaN\n",
            "min           -inf         -inf         -inf         -inf\n",
            "25%      -0.612372    -0.925612    -0.693375    -0.637815\n",
            "50%      -0.423121    -0.172845    -0.241933    -0.449448\n",
            "75%       1.287453     0.799403     0.915401     0.523205\n",
            "max            inf          inf          inf          inf\n"
          ]
        },
        {
          "output_type": "display_data",
          "data": {
            "text/plain": [
              "<Figure size 1200x800 with 1 Axes>"
            ],
            "image/png": "[encoded data removed]"
          },
          "metadata": {}
        },
        {
          "output_type": "stream",
          "name": "stdout",
          "text": [
            "\n",
            "### Explanation: Overview Statistics and Distribution ###\n",
            "\n",
            "The overview statistics provide a summary of the distribution of z-scores across all polling units for each party.\n",
            "These statistics include measures such as mean, standard deviation, minimum, maximum, and quartiles.\n",
            "The distribution plots visualize how the z-scores are distributed for each party.\n",
            "They show the spread and concentration of voting pattern deviations from neighbouring units, which helps in understanding the variability and potential outliers.\n",
            "\n",
            "Percentage of Outliers for Each Party:\n",
            "APC_outlier     10.546344\n",
            "LP_outlier      10.356075\n",
            "PDP_outlier     10.165806\n",
            "NNPP_outlier     7.746670\n",
            "dtype: float64\n",
            "\n",
            "### Explanation: Percentage of Outliers ###\n",
            "\n",
            "The percentage of outliers for each party indicates the proportion of polling units where significant deviations in voting patterns are observed compared to neighbouring units.\n",
            "Higher percentages suggest more widespread anomalies in voting behaviors, which may warrant closer scrutiny and investigation.\n",
            "\n",
            "### Explanation: Visualizing Outliers on a Map ###\n",
            "\n",
            "The map visualizes the spatial distribution of outliers for the APC party across polling units.\n",
            "Each point represents a polling unit, colored according to whether it is flagged as an outlier.\n",
            "This helps in identifying geographical clusters or patterns of voting irregularities that may require further investigation.\n",
            "\n",
            "Top outliers for APC party:\n",
            "                                        Address  APC_zscore  APC_outlier\n",
            "1799      EBENATOR C/S II, NNEWI NORTH, ANAMBRA         inf         True\n",
            "1193  ILOAMASATO SQUARE III, DUNUKOFIA, ANAMBRA         inf         True\n",
            "1212        EKWUEME HALL II, DUNUKOFIA, ANAMBRA         inf         True\n",
            "1207            UNITY P/S I, DUNUKOFIA, ANAMBRA         inf         True\n",
            "1206    EBE OLLOR SQUARE II, DUNUKOFIA, ANAMBRA         inf         True\n",
            "\n",
            "\n",
            "\n",
            "Top outliers for LP party:\n",
            "                                                Address  LP_zscore  LP_outlier\n",
            "1084         AKABOR VILLAGE HALL I, AWKA SOUTH, ANAMBRA        inf        True\n",
            "1851                NWAFOR HALL I, NNEWI NORTH, ANAMBRA        inf        True\n",
            "1395  OGWUGWU IDEANI PRY. SCHOOL II, IDEMILI-SOUTH, ...        inf        True\n",
            "301                AMA-IGBOEZUNU, ANAMBRA EAST, ANAMBRA        inf        True\n",
            "2668        PRY. SCHOOL, UFUMA I, ORUMBA NORTH, ANAMBRA        inf        True\n",
            "\n",
            "\n",
            "\n",
            "Top outliers for PDP party:\n",
            "                                         Address  PDP_zscore  PDP_outlier\n",
            "1763  COOPERATIVE CENTRE I, NNEWI NORTH, ANAMBRA         inf         True\n",
            "914       IRUOTULU V SQUARE, AWKA NORTH, ANAMBRA         inf         True\n",
            "930    OMATA VILLAGE SQUARE, AWKA NORTH, ANAMBRA         inf         True\n",
            "923        UMUNOKWAM SQUARE, AWKA NORTH, ANAMBRA         inf         True\n",
            "921      AFOR UGBENE SQUARE, AWKA NORTH, ANAMBRA         inf         True\n",
            "\n",
            "\n",
            "\n",
            "Top outliers for NNPP party:\n",
            "                                                Address  NNPP_zscore  \\\n",
            "3677  UMUNNACHI EBENATO UDENE VILL. HALL, NNEWI SOUT...          inf   \n",
            "120             UMUDEGE CIVIC CENTRE I, AGUATA, ANAMBRA          inf   \n",
            "1113       OBINWANNE PRY. SCHOOL I, AWKA SOUTH, ANAMBRA          inf   \n",
            "1101                UMUNONO HALL I, AWKA SOUTH, ANAMBRA          inf   \n",
            "1087       AKABOR VILLAGE HALL III, AWKA SOUTH, ANAMBRA          inf   \n",
            "\n",
            "      NNPP_outlier  \n",
            "3677          True  \n",
            "120           True  \n",
            "1113          True  \n",
            "1101          True  \n",
            "1087          True  \n",
            "\n",
            "\n",
            "\n",
            "### Explanation: Sorting and Reporting Top Outliers ###\n",
            "\n",
            "Sorting the polling units by z-score allows us to identify the most significant outliers.\n",
            "These are the polling units where voting patterns deviate the most from their neighbours, indicating potential irregularities.\n",
            "Reporting these top outliers helps prioritize further investigation or corrective actions in these locations.\n"
          ]
        }
      ]
    },
    {
      "cell_type": "code",
      "source": [],
      "metadata": {
        "id": "iNcbR55lwAoI"
      },
      "execution_count": null,
      "outputs": []
    },
    {
      "cell_type": "code",
      "source": [],
      "metadata": {
        "id": "ZONKGceuwDar"
      },
      "execution_count": null,
      "outputs": []
    },
    {
      "cell_type": "code",
      "source": [],
      "metadata": {
        "id": "m1uanxX9wF4m"
      },
      "execution_count": null,
      "outputs": []
    },
    {
      "cell_type": "code",
      "source": [],
      "metadata": {
        "id": "u4Jwwi3hwImv"
      },
      "execution_count": null,
      "outputs": []
    },
    {
      "cell_type": "code",
      "source": [],
      "metadata": {
        "id": "FTUUzG4_wO-V"
      },
      "execution_count": null,
      "outputs": []
    },
    {
      "cell_type": "code",
      "source": [],
      "metadata": {
        "id": "SLb_IgH7wSSJ"
      },
      "execution_count": null,
      "outputs": []
    },
    {
      "cell_type": "code",
      "source": [],
      "metadata": {
        "id": "e8FW-cM7xDDU"
      },
      "execution_count": null,
      "outputs": []
    }
  ],
  "metadata": {
    "accelerator": "TPU",
    "colab": {
      "gpuType": "V28",
      "provenance": [],
      "mount_file_id": "1AZGrC0gdBtzsi9KTYA4yRsBHHnUJt15e",
      "authorship_tag": "ABX9TyPOUh9ZgG1Xz8KJOTXLdodc",
      "include_colab_link": true
    },
    "kernelspec": {
      "display_name": "Python 3",
      "name": "python3"
    },
    "language_info": {
      "name": "python"
    }
  },
  "nbformat": 4,
  "nbformat_minor": 0
}